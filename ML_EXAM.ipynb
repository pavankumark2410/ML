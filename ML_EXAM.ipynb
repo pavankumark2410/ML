{
  "cells": [
    {
      "cell_type": "code",
      "execution_count": null,
      "metadata": {
        "id": "hTXbEjFZTMLW"
      },
      "outputs": [],
      "source": [
        "#LOGISTIC REGRESSION for HCV \n",
        "\n",
        "#Logistic regression is an example of supervised learning. It is used to calculate or predict the probability of a binary (yes/no) event occurring."
      ]
    },
    {
      "cell_type": "code",
      "execution_count": null,
      "metadata": {
        "id": "UaNKpnfH1bTE"
      },
      "outputs": [],
      "source": [
        "import pandas as pd\n",
        "import io\n",
        "import seaborn as sns\n",
        "import matplotlib.pyplot as plt\n",
        "import numpy as np\n",
        "import warnings\n",
        "from sklearn.preprocessing import LabelEncoder\n",
        "\n",
        "%matplotlib inline\n",
        "\n",
        "warnings.filterwarnings('ignore')\n"
      ]
    },
    {
      "cell_type": "code",
      "execution_count": null,
      "metadata": {
        "colab": {
          "base_uri": "https://localhost:8080/",
          "height": 237
        },
        "id": "yrGu5xhJzw-l",
        "outputId": "a7f5281f-f704-479e-814a-8344e17018e8"
      },
      "outputs": [
        {
          "output_type": "execute_result",
          "data": {
            "text/plain": [
              "    Sex   ALB   ALP   ALT   AST   BIL    CHE  CHOL   CREA   GGT  PROT  \\\n",
              "Age                                                                     \n",
              "32    m  38.5  52.5   7.7  22.1   7.5   6.93  3.23  106.0  12.1  69.0   \n",
              "32    m  38.5  70.3  18.0  24.7   3.9  11.17  4.80   74.0  15.6  76.5   \n",
              "32    m  46.9  74.7  36.2  52.6   6.1   8.84  5.20   86.0  33.2  79.3   \n",
              "32    m  43.2  52.0  30.6  22.6  18.9   7.33  4.74   80.0  33.8  75.7   \n",
              "32    m  39.2  74.1  32.6  24.8   9.6   9.15  4.32   76.0  29.9  68.7   \n",
              "\n",
              "          Category  Unnamed: 13  \n",
              "Age                              \n",
              "32   0=Blood Donor          NaN  \n",
              "32   0=Blood Donor          NaN  \n",
              "32   0=Blood Donor          NaN  \n",
              "32   0=Blood Donor          NaN  \n",
              "32   0=Blood Donor          NaN  "
            ],
            "text/html": [
              "\n",
              "  <div id=\"df-9832df9c-e588-42a1-aba7-4f33d095af5a\">\n",
              "    <div class=\"colab-df-container\">\n",
              "      <div>\n",
              "<style scoped>\n",
              "    .dataframe tbody tr th:only-of-type {\n",
              "        vertical-align: middle;\n",
              "    }\n",
              "\n",
              "    .dataframe tbody tr th {\n",
              "        vertical-align: top;\n",
              "    }\n",
              "\n",
              "    .dataframe thead th {\n",
              "        text-align: right;\n",
              "    }\n",
              "</style>\n",
              "<table border=\"1\" class=\"dataframe\">\n",
              "  <thead>\n",
              "    <tr style=\"text-align: right;\">\n",
              "      <th></th>\n",
              "      <th>Sex</th>\n",
              "      <th>ALB</th>\n",
              "      <th>ALP</th>\n",
              "      <th>ALT</th>\n",
              "      <th>AST</th>\n",
              "      <th>BIL</th>\n",
              "      <th>CHE</th>\n",
              "      <th>CHOL</th>\n",
              "      <th>CREA</th>\n",
              "      <th>GGT</th>\n",
              "      <th>PROT</th>\n",
              "      <th>Category</th>\n",
              "      <th>Unnamed: 13</th>\n",
              "    </tr>\n",
              "    <tr>\n",
              "      <th>Age</th>\n",
              "      <th></th>\n",
              "      <th></th>\n",
              "      <th></th>\n",
              "      <th></th>\n",
              "      <th></th>\n",
              "      <th></th>\n",
              "      <th></th>\n",
              "      <th></th>\n",
              "      <th></th>\n",
              "      <th></th>\n",
              "      <th></th>\n",
              "      <th></th>\n",
              "      <th></th>\n",
              "    </tr>\n",
              "  </thead>\n",
              "  <tbody>\n",
              "    <tr>\n",
              "      <th>32</th>\n",
              "      <td>m</td>\n",
              "      <td>38.5</td>\n",
              "      <td>52.5</td>\n",
              "      <td>7.7</td>\n",
              "      <td>22.1</td>\n",
              "      <td>7.5</td>\n",
              "      <td>6.93</td>\n",
              "      <td>3.23</td>\n",
              "      <td>106.0</td>\n",
              "      <td>12.1</td>\n",
              "      <td>69.0</td>\n",
              "      <td>0=Blood Donor</td>\n",
              "      <td>NaN</td>\n",
              "    </tr>\n",
              "    <tr>\n",
              "      <th>32</th>\n",
              "      <td>m</td>\n",
              "      <td>38.5</td>\n",
              "      <td>70.3</td>\n",
              "      <td>18.0</td>\n",
              "      <td>24.7</td>\n",
              "      <td>3.9</td>\n",
              "      <td>11.17</td>\n",
              "      <td>4.80</td>\n",
              "      <td>74.0</td>\n",
              "      <td>15.6</td>\n",
              "      <td>76.5</td>\n",
              "      <td>0=Blood Donor</td>\n",
              "      <td>NaN</td>\n",
              "    </tr>\n",
              "    <tr>\n",
              "      <th>32</th>\n",
              "      <td>m</td>\n",
              "      <td>46.9</td>\n",
              "      <td>74.7</td>\n",
              "      <td>36.2</td>\n",
              "      <td>52.6</td>\n",
              "      <td>6.1</td>\n",
              "      <td>8.84</td>\n",
              "      <td>5.20</td>\n",
              "      <td>86.0</td>\n",
              "      <td>33.2</td>\n",
              "      <td>79.3</td>\n",
              "      <td>0=Blood Donor</td>\n",
              "      <td>NaN</td>\n",
              "    </tr>\n",
              "    <tr>\n",
              "      <th>32</th>\n",
              "      <td>m</td>\n",
              "      <td>43.2</td>\n",
              "      <td>52.0</td>\n",
              "      <td>30.6</td>\n",
              "      <td>22.6</td>\n",
              "      <td>18.9</td>\n",
              "      <td>7.33</td>\n",
              "      <td>4.74</td>\n",
              "      <td>80.0</td>\n",
              "      <td>33.8</td>\n",
              "      <td>75.7</td>\n",
              "      <td>0=Blood Donor</td>\n",
              "      <td>NaN</td>\n",
              "    </tr>\n",
              "    <tr>\n",
              "      <th>32</th>\n",
              "      <td>m</td>\n",
              "      <td>39.2</td>\n",
              "      <td>74.1</td>\n",
              "      <td>32.6</td>\n",
              "      <td>24.8</td>\n",
              "      <td>9.6</td>\n",
              "      <td>9.15</td>\n",
              "      <td>4.32</td>\n",
              "      <td>76.0</td>\n",
              "      <td>29.9</td>\n",
              "      <td>68.7</td>\n",
              "      <td>0=Blood Donor</td>\n",
              "      <td>NaN</td>\n",
              "    </tr>\n",
              "  </tbody>\n",
              "</table>\n",
              "</div>\n",
              "      <button class=\"colab-df-convert\" onclick=\"convertToInteractive('df-9832df9c-e588-42a1-aba7-4f33d095af5a')\"\n",
              "              title=\"Convert this dataframe to an interactive table.\"\n",
              "              style=\"display:none;\">\n",
              "        \n",
              "  <svg xmlns=\"http://www.w3.org/2000/svg\" height=\"24px\"viewBox=\"0 0 24 24\"\n",
              "       width=\"24px\">\n",
              "    <path d=\"M0 0h24v24H0V0z\" fill=\"none\"/>\n",
              "    <path d=\"M18.56 5.44l.94 2.06.94-2.06 2.06-.94-2.06-.94-.94-2.06-.94 2.06-2.06.94zm-11 1L8.5 8.5l.94-2.06 2.06-.94-2.06-.94L8.5 2.5l-.94 2.06-2.06.94zm10 10l.94 2.06.94-2.06 2.06-.94-2.06-.94-.94-2.06-.94 2.06-2.06.94z\"/><path d=\"M17.41 7.96l-1.37-1.37c-.4-.4-.92-.59-1.43-.59-.52 0-1.04.2-1.43.59L10.3 9.45l-7.72 7.72c-.78.78-.78 2.05 0 2.83L4 21.41c.39.39.9.59 1.41.59.51 0 1.02-.2 1.41-.59l7.78-7.78 2.81-2.81c.8-.78.8-2.07 0-2.86zM5.41 20L4 18.59l7.72-7.72 1.47 1.35L5.41 20z\"/>\n",
              "  </svg>\n",
              "      </button>\n",
              "      \n",
              "  <style>\n",
              "    .colab-df-container {\n",
              "      display:flex;\n",
              "      flex-wrap:wrap;\n",
              "      gap: 12px;\n",
              "    }\n",
              "\n",
              "    .colab-df-convert {\n",
              "      background-color: #E8F0FE;\n",
              "      border: none;\n",
              "      border-radius: 50%;\n",
              "      cursor: pointer;\n",
              "      display: none;\n",
              "      fill: #1967D2;\n",
              "      height: 32px;\n",
              "      padding: 0 0 0 0;\n",
              "      width: 32px;\n",
              "    }\n",
              "\n",
              "    .colab-df-convert:hover {\n",
              "      background-color: #E2EBFA;\n",
              "      box-shadow: 0px 1px 2px rgba(60, 64, 67, 0.3), 0px 1px 3px 1px rgba(60, 64, 67, 0.15);\n",
              "      fill: #174EA6;\n",
              "    }\n",
              "\n",
              "    [theme=dark] .colab-df-convert {\n",
              "      background-color: #3B4455;\n",
              "      fill: #D2E3FC;\n",
              "    }\n",
              "\n",
              "    [theme=dark] .colab-df-convert:hover {\n",
              "      background-color: #434B5C;\n",
              "      box-shadow: 0px 1px 3px 1px rgba(0, 0, 0, 0.15);\n",
              "      filter: drop-shadow(0px 1px 2px rgba(0, 0, 0, 0.3));\n",
              "      fill: #FFFFFF;\n",
              "    }\n",
              "  </style>\n",
              "\n",
              "      <script>\n",
              "        const buttonEl =\n",
              "          document.querySelector('#df-9832df9c-e588-42a1-aba7-4f33d095af5a button.colab-df-convert');\n",
              "        buttonEl.style.display =\n",
              "          google.colab.kernel.accessAllowed ? 'block' : 'none';\n",
              "\n",
              "        async function convertToInteractive(key) {\n",
              "          const element = document.querySelector('#df-9832df9c-e588-42a1-aba7-4f33d095af5a');\n",
              "          const dataTable =\n",
              "            await google.colab.kernel.invokeFunction('convertToInteractive',\n",
              "                                                     [key], {});\n",
              "          if (!dataTable) return;\n",
              "\n",
              "          const docLinkHtml = 'Like what you see? Visit the ' +\n",
              "            '<a target=\"_blank\" href=https://colab.research.google.com/notebooks/data_table.ipynb>data table notebook</a>'\n",
              "            + ' to learn more about interactive tables.';\n",
              "          element.innerHTML = '';\n",
              "          dataTable['output_type'] = 'display_data';\n",
              "          await google.colab.output.renderOutput(dataTable, element);\n",
              "          const docLink = document.createElement('div');\n",
              "          docLink.innerHTML = docLinkHtml;\n",
              "          element.appendChild(docLink);\n",
              "        }\n",
              "      </script>\n",
              "    </div>\n",
              "  </div>\n",
              "  "
            ]
          },
          "metadata": {},
          "execution_count": 349
        }
      ],
      "source": [
        "df=pd.read_csv('/content/HCV.csv.csv', index_col=0)\n",
        "df.head()"
      ]
    },
    {
      "cell_type": "code",
      "source": [
        "df.describe()"
      ],
      "metadata": {
        "colab": {
          "base_uri": "https://localhost:8080/",
          "height": 300
        },
        "id": "FwPVtMtDprUc",
        "outputId": "47477d27-e42c-4bc5-e190-dc96a1952d94"
      },
      "execution_count": null,
      "outputs": [
        {
          "output_type": "execute_result",
          "data": {
            "text/plain": [
              "              ALB         ALP         ALT         AST         BIL         CHE  \\\n",
              "count  614.000000  597.000000  614.000000  615.000000  615.000000  615.000000   \n",
              "mean    41.620195   68.283920   28.450814   34.786341   11.396748    8.196634   \n",
              "std      5.780629   26.028315   25.469689   33.090690   19.673150    2.205657   \n",
              "min     14.900000   11.300000    0.900000   10.600000    0.800000    1.420000   \n",
              "25%     38.800000   52.500000   16.400000   21.600000    5.300000    6.935000   \n",
              "50%     41.950000   66.200000   23.000000   25.900000    7.300000    8.260000   \n",
              "75%     45.200000   80.100000   33.075000   32.900000   11.200000    9.590000   \n",
              "max     82.200000  416.600000  325.300000  324.000000  254.000000   16.410000   \n",
              "\n",
              "             CHOL         CREA         GGT        PROT  Unnamed: 13  \n",
              "count  605.000000   615.000000  615.000000  614.000000          0.0  \n",
              "mean     5.368099    81.287805   39.533171   72.044137          NaN  \n",
              "std      1.132728    49.756166   54.661071    5.402636          NaN  \n",
              "min      1.430000     8.000000    4.500000   44.800000          NaN  \n",
              "25%      4.610000    67.000000   15.700000   69.300000          NaN  \n",
              "50%      5.300000    77.000000   23.300000   72.200000          NaN  \n",
              "75%      6.060000    88.000000   40.200000   75.400000          NaN  \n",
              "max      9.670000  1079.100000  650.900000   90.000000          NaN  "
            ],
            "text/html": [
              "\n",
              "  <div id=\"df-d5ce647e-21c6-4da9-9575-216534a9628e\">\n",
              "    <div class=\"colab-df-container\">\n",
              "      <div>\n",
              "<style scoped>\n",
              "    .dataframe tbody tr th:only-of-type {\n",
              "        vertical-align: middle;\n",
              "    }\n",
              "\n",
              "    .dataframe tbody tr th {\n",
              "        vertical-align: top;\n",
              "    }\n",
              "\n",
              "    .dataframe thead th {\n",
              "        text-align: right;\n",
              "    }\n",
              "</style>\n",
              "<table border=\"1\" class=\"dataframe\">\n",
              "  <thead>\n",
              "    <tr style=\"text-align: right;\">\n",
              "      <th></th>\n",
              "      <th>ALB</th>\n",
              "      <th>ALP</th>\n",
              "      <th>ALT</th>\n",
              "      <th>AST</th>\n",
              "      <th>BIL</th>\n",
              "      <th>CHE</th>\n",
              "      <th>CHOL</th>\n",
              "      <th>CREA</th>\n",
              "      <th>GGT</th>\n",
              "      <th>PROT</th>\n",
              "      <th>Unnamed: 13</th>\n",
              "    </tr>\n",
              "  </thead>\n",
              "  <tbody>\n",
              "    <tr>\n",
              "      <th>count</th>\n",
              "      <td>614.000000</td>\n",
              "      <td>597.000000</td>\n",
              "      <td>614.000000</td>\n",
              "      <td>615.000000</td>\n",
              "      <td>615.000000</td>\n",
              "      <td>615.000000</td>\n",
              "      <td>605.000000</td>\n",
              "      <td>615.000000</td>\n",
              "      <td>615.000000</td>\n",
              "      <td>614.000000</td>\n",
              "      <td>0.0</td>\n",
              "    </tr>\n",
              "    <tr>\n",
              "      <th>mean</th>\n",
              "      <td>41.620195</td>\n",
              "      <td>68.283920</td>\n",
              "      <td>28.450814</td>\n",
              "      <td>34.786341</td>\n",
              "      <td>11.396748</td>\n",
              "      <td>8.196634</td>\n",
              "      <td>5.368099</td>\n",
              "      <td>81.287805</td>\n",
              "      <td>39.533171</td>\n",
              "      <td>72.044137</td>\n",
              "      <td>NaN</td>\n",
              "    </tr>\n",
              "    <tr>\n",
              "      <th>std</th>\n",
              "      <td>5.780629</td>\n",
              "      <td>26.028315</td>\n",
              "      <td>25.469689</td>\n",
              "      <td>33.090690</td>\n",
              "      <td>19.673150</td>\n",
              "      <td>2.205657</td>\n",
              "      <td>1.132728</td>\n",
              "      <td>49.756166</td>\n",
              "      <td>54.661071</td>\n",
              "      <td>5.402636</td>\n",
              "      <td>NaN</td>\n",
              "    </tr>\n",
              "    <tr>\n",
              "      <th>min</th>\n",
              "      <td>14.900000</td>\n",
              "      <td>11.300000</td>\n",
              "      <td>0.900000</td>\n",
              "      <td>10.600000</td>\n",
              "      <td>0.800000</td>\n",
              "      <td>1.420000</td>\n",
              "      <td>1.430000</td>\n",
              "      <td>8.000000</td>\n",
              "      <td>4.500000</td>\n",
              "      <td>44.800000</td>\n",
              "      <td>NaN</td>\n",
              "    </tr>\n",
              "    <tr>\n",
              "      <th>25%</th>\n",
              "      <td>38.800000</td>\n",
              "      <td>52.500000</td>\n",
              "      <td>16.400000</td>\n",
              "      <td>21.600000</td>\n",
              "      <td>5.300000</td>\n",
              "      <td>6.935000</td>\n",
              "      <td>4.610000</td>\n",
              "      <td>67.000000</td>\n",
              "      <td>15.700000</td>\n",
              "      <td>69.300000</td>\n",
              "      <td>NaN</td>\n",
              "    </tr>\n",
              "    <tr>\n",
              "      <th>50%</th>\n",
              "      <td>41.950000</td>\n",
              "      <td>66.200000</td>\n",
              "      <td>23.000000</td>\n",
              "      <td>25.900000</td>\n",
              "      <td>7.300000</td>\n",
              "      <td>8.260000</td>\n",
              "      <td>5.300000</td>\n",
              "      <td>77.000000</td>\n",
              "      <td>23.300000</td>\n",
              "      <td>72.200000</td>\n",
              "      <td>NaN</td>\n",
              "    </tr>\n",
              "    <tr>\n",
              "      <th>75%</th>\n",
              "      <td>45.200000</td>\n",
              "      <td>80.100000</td>\n",
              "      <td>33.075000</td>\n",
              "      <td>32.900000</td>\n",
              "      <td>11.200000</td>\n",
              "      <td>9.590000</td>\n",
              "      <td>6.060000</td>\n",
              "      <td>88.000000</td>\n",
              "      <td>40.200000</td>\n",
              "      <td>75.400000</td>\n",
              "      <td>NaN</td>\n",
              "    </tr>\n",
              "    <tr>\n",
              "      <th>max</th>\n",
              "      <td>82.200000</td>\n",
              "      <td>416.600000</td>\n",
              "      <td>325.300000</td>\n",
              "      <td>324.000000</td>\n",
              "      <td>254.000000</td>\n",
              "      <td>16.410000</td>\n",
              "      <td>9.670000</td>\n",
              "      <td>1079.100000</td>\n",
              "      <td>650.900000</td>\n",
              "      <td>90.000000</td>\n",
              "      <td>NaN</td>\n",
              "    </tr>\n",
              "  </tbody>\n",
              "</table>\n",
              "</div>\n",
              "      <button class=\"colab-df-convert\" onclick=\"convertToInteractive('df-d5ce647e-21c6-4da9-9575-216534a9628e')\"\n",
              "              title=\"Convert this dataframe to an interactive table.\"\n",
              "              style=\"display:none;\">\n",
              "        \n",
              "  <svg xmlns=\"http://www.w3.org/2000/svg\" height=\"24px\"viewBox=\"0 0 24 24\"\n",
              "       width=\"24px\">\n",
              "    <path d=\"M0 0h24v24H0V0z\" fill=\"none\"/>\n",
              "    <path d=\"M18.56 5.44l.94 2.06.94-2.06 2.06-.94-2.06-.94-.94-2.06-.94 2.06-2.06.94zm-11 1L8.5 8.5l.94-2.06 2.06-.94-2.06-.94L8.5 2.5l-.94 2.06-2.06.94zm10 10l.94 2.06.94-2.06 2.06-.94-2.06-.94-.94-2.06-.94 2.06-2.06.94z\"/><path d=\"M17.41 7.96l-1.37-1.37c-.4-.4-.92-.59-1.43-.59-.52 0-1.04.2-1.43.59L10.3 9.45l-7.72 7.72c-.78.78-.78 2.05 0 2.83L4 21.41c.39.39.9.59 1.41.59.51 0 1.02-.2 1.41-.59l7.78-7.78 2.81-2.81c.8-.78.8-2.07 0-2.86zM5.41 20L4 18.59l7.72-7.72 1.47 1.35L5.41 20z\"/>\n",
              "  </svg>\n",
              "      </button>\n",
              "      \n",
              "  <style>\n",
              "    .colab-df-container {\n",
              "      display:flex;\n",
              "      flex-wrap:wrap;\n",
              "      gap: 12px;\n",
              "    }\n",
              "\n",
              "    .colab-df-convert {\n",
              "      background-color: #E8F0FE;\n",
              "      border: none;\n",
              "      border-radius: 50%;\n",
              "      cursor: pointer;\n",
              "      display: none;\n",
              "      fill: #1967D2;\n",
              "      height: 32px;\n",
              "      padding: 0 0 0 0;\n",
              "      width: 32px;\n",
              "    }\n",
              "\n",
              "    .colab-df-convert:hover {\n",
              "      background-color: #E2EBFA;\n",
              "      box-shadow: 0px 1px 2px rgba(60, 64, 67, 0.3), 0px 1px 3px 1px rgba(60, 64, 67, 0.15);\n",
              "      fill: #174EA6;\n",
              "    }\n",
              "\n",
              "    [theme=dark] .colab-df-convert {\n",
              "      background-color: #3B4455;\n",
              "      fill: #D2E3FC;\n",
              "    }\n",
              "\n",
              "    [theme=dark] .colab-df-convert:hover {\n",
              "      background-color: #434B5C;\n",
              "      box-shadow: 0px 1px 3px 1px rgba(0, 0, 0, 0.15);\n",
              "      filter: drop-shadow(0px 1px 2px rgba(0, 0, 0, 0.3));\n",
              "      fill: #FFFFFF;\n",
              "    }\n",
              "  </style>\n",
              "\n",
              "      <script>\n",
              "        const buttonEl =\n",
              "          document.querySelector('#df-d5ce647e-21c6-4da9-9575-216534a9628e button.colab-df-convert');\n",
              "        buttonEl.style.display =\n",
              "          google.colab.kernel.accessAllowed ? 'block' : 'none';\n",
              "\n",
              "        async function convertToInteractive(key) {\n",
              "          const element = document.querySelector('#df-d5ce647e-21c6-4da9-9575-216534a9628e');\n",
              "          const dataTable =\n",
              "            await google.colab.kernel.invokeFunction('convertToInteractive',\n",
              "                                                     [key], {});\n",
              "          if (!dataTable) return;\n",
              "\n",
              "          const docLinkHtml = 'Like what you see? Visit the ' +\n",
              "            '<a target=\"_blank\" href=https://colab.research.google.com/notebooks/data_table.ipynb>data table notebook</a>'\n",
              "            + ' to learn more about interactive tables.';\n",
              "          element.innerHTML = '';\n",
              "          dataTable['output_type'] = 'display_data';\n",
              "          await google.colab.output.renderOutput(dataTable, element);\n",
              "          const docLink = document.createElement('div');\n",
              "          docLink.innerHTML = docLinkHtml;\n",
              "          element.appendChild(docLink);\n",
              "        }\n",
              "      </script>\n",
              "    </div>\n",
              "  </div>\n",
              "  "
            ]
          },
          "metadata": {},
          "execution_count": 350
        }
      ]
    },
    {
      "cell_type": "code",
      "execution_count": null,
      "metadata": {
        "id": "utXhQhJKTWZs"
      },
      "outputs": [],
      "source": [
        "#Category is dependent variable \n",
        "\n",
        "#Age\tSex\tALB\tALP\tALT\tAST\tBIL\tCHE\tCHOL\tCREA\tGGT\tPRO are independent variable"
      ]
    },
    {
      "cell_type": "code",
      "execution_count": null,
      "metadata": {
        "id": "pBPzK1BIOtyn"
      },
      "outputs": [],
      "source": [
        "\n",
        "# # Drop column of index using DataFrame.iloc[] and drop() methods.\n",
        "# df2 = df.drop(df.iloc[:, 0:1],axis = 1)\n",
        "# print(df2)                      \n",
        "# df2.shape"
      ]
    },
    {
      "cell_type": "code",
      "execution_count": null,
      "metadata": {
        "colab": {
          "base_uri": "https://localhost:8080/"
        },
        "id": "sIVTeUwaNu0h",
        "outputId": "602b118e-b0ba-474c-a28b-ac88484bd847"
      },
      "outputs": [
        {
          "output_type": "execute_result",
          "data": {
            "text/plain": [
              "Sex              2\n",
              "ALB            189\n",
              "ALP            414\n",
              "ALT            341\n",
              "AST            297\n",
              "BIL            188\n",
              "CHE            407\n",
              "CHOL           313\n",
              "CREA           117\n",
              "GGT            358\n",
              "PROT           198\n",
              "Category         5\n",
              "Unnamed: 13      0\n",
              "dtype: int64"
            ]
          },
          "metadata": {},
          "execution_count": 353
        }
      ],
      "source": [
        "df.nunique()"
      ]
    },
    {
      "cell_type": "code",
      "execution_count": null,
      "metadata": {
        "id": "gbASWTmUTbkL"
      },
      "outputs": [],
      "source": [
        "#some null values are shown here"
      ]
    },
    {
      "cell_type": "code",
      "execution_count": null,
      "metadata": {
        "colab": {
          "base_uri": "https://localhost:8080/",
          "height": 346
        },
        "id": "1dJCqB4a1hER",
        "outputId": "ab231ffa-6fdf-4ee5-dac0-b96ccb69ee72"
      },
      "outputs": [
        {
          "output_type": "execute_result",
          "data": {
            "text/plain": [
              "<matplotlib.axes._subplots.AxesSubplot at 0x7fab1a1ca0d0>"
            ]
          },
          "metadata": {},
          "execution_count": 355
        },
        {
          "output_type": "display_data",
          "data": {
            "text/plain": [
              "<Figure size 432x288 with 2 Axes>"
            ],
            "image/png": "[encoded data removed]"
          },
          "metadata": {
            "needs_background": "light"
          }
        }
      ],
      "source": [
        "sns.heatmap(df.isnull())"
      ]
    },
    {
      "cell_type": "code",
      "source": [
        "df.drop(['Unnamed: 13'],axis=1,inplace=True)"
      ],
      "metadata": {
        "id": "QYsj2HGhe7o0"
      },
      "execution_count": null,
      "outputs": []
    },
    {
      "cell_type": "code",
      "execution_count": null,
      "metadata": {
        "id": "5ArYxJ042jBH"
      },
      "outputs": [],
      "source": [
        "df.fillna(0, inplace = True)\n"
      ]
    },
    {
      "cell_type": "code",
      "execution_count": null,
      "metadata": {
        "colab": {
          "base_uri": "https://localhost:8080/",
          "height": 324
        },
        "id": "XvHXIKOT20G6",
        "outputId": "4e0c3b63-3c59-4b3e-8db7-b00f0e7d26ee"
      },
      "outputs": [
        {
          "output_type": "execute_result",
          "data": {
            "text/plain": [
              "<matplotlib.axes._subplots.AxesSubplot at 0x7fab1a05f810>"
            ]
          },
          "metadata": {},
          "execution_count": 358
        },
        {
          "output_type": "display_data",
          "data": {
            "text/plain": [
              "<Figure size 432x288 with 2 Axes>"
            ],
            "image/png": "[encoded data removed]"
          },
          "metadata": {
            "needs_background": "light"
          }
        }
      ],
      "source": [
        "sns.heatmap(df.isnull())"
      ]
    },
    {
      "cell_type": "code",
      "execution_count": null,
      "metadata": {
        "id": "xwH1EjGKTrCA"
      },
      "outputs": [],
      "source": [
        "#According to heat map - ALP CHOL AND PROT has some null values hence should be replaced by any values"
      ]
    },
    {
      "cell_type": "code",
      "execution_count": null,
      "metadata": {
        "colab": {
          "base_uri": "https://localhost:8080/",
          "height": 237
        },
        "id": "GMdQ19rJ7APJ",
        "outputId": "8852dca9-e644-420e-ae2a-b9d4a4f64f2b"
      },
      "outputs": [
        {
          "output_type": "execute_result",
          "data": {
            "text/plain": [
              "    Sex   ALB   ALP   ALT   AST   BIL    CHE  CHOL   CREA   GGT  PROT  \\\n",
              "Age                                                                     \n",
              "32    m  38.5  52.5   7.7  22.1   7.5   6.93  3.23  106.0  12.1  69.0   \n",
              "32    m  38.5  70.3  18.0  24.7   3.9  11.17  4.80   74.0  15.6  76.5   \n",
              "32    m  46.9  74.7  36.2  52.6   6.1   8.84  5.20   86.0  33.2  79.3   \n",
              "32    m  43.2  52.0  30.6  22.6  18.9   7.33  4.74   80.0  33.8  75.7   \n",
              "32    m  39.2  74.1  32.6  24.8   9.6   9.15  4.32   76.0  29.9  68.7   \n",
              "\n",
              "          Category  \n",
              "Age                 \n",
              "32   0=Blood Donor  \n",
              "32   0=Blood Donor  \n",
              "32   0=Blood Donor  \n",
              "32   0=Blood Donor  \n",
              "32   0=Blood Donor  "
            ],
            "text/html": [
              "\n",
              "  <div id=\"df-142eb61a-1c6a-4779-8916-61204679e27c\">\n",
              "    <div class=\"colab-df-container\">\n",
              "      <div>\n",
              "<style scoped>\n",
              "    .dataframe tbody tr th:only-of-type {\n",
              "        vertical-align: middle;\n",
              "    }\n",
              "\n",
              "    .dataframe tbody tr th {\n",
              "        vertical-align: top;\n",
              "    }\n",
              "\n",
              "    .dataframe thead th {\n",
              "        text-align: right;\n",
              "    }\n",
              "</style>\n",
              "<table border=\"1\" class=\"dataframe\">\n",
              "  <thead>\n",
              "    <tr style=\"text-align: right;\">\n",
              "      <th></th>\n",
              "      <th>Sex</th>\n",
              "      <th>ALB</th>\n",
              "      <th>ALP</th>\n",
              "      <th>ALT</th>\n",
              "      <th>AST</th>\n",
              "      <th>BIL</th>\n",
              "      <th>CHE</th>\n",
              "      <th>CHOL</th>\n",
              "      <th>CREA</th>\n",
              "      <th>GGT</th>\n",
              "      <th>PROT</th>\n",
              "      <th>Category</th>\n",
              "    </tr>\n",
              "    <tr>\n",
              "      <th>Age</th>\n",
              "      <th></th>\n",
              "      <th></th>\n",
              "      <th></th>\n",
              "      <th></th>\n",
              "      <th></th>\n",
              "      <th></th>\n",
              "      <th></th>\n",
              "      <th></th>\n",
              "      <th></th>\n",
              "      <th></th>\n",
              "      <th></th>\n",
              "      <th></th>\n",
              "    </tr>\n",
              "  </thead>\n",
              "  <tbody>\n",
              "    <tr>\n",
              "      <th>32</th>\n",
              "      <td>m</td>\n",
              "      <td>38.5</td>\n",
              "      <td>52.5</td>\n",
              "      <td>7.7</td>\n",
              "      <td>22.1</td>\n",
              "      <td>7.5</td>\n",
              "      <td>6.93</td>\n",
              "      <td>3.23</td>\n",
              "      <td>106.0</td>\n",
              "      <td>12.1</td>\n",
              "      <td>69.0</td>\n",
              "      <td>0=Blood Donor</td>\n",
              "    </tr>\n",
              "    <tr>\n",
              "      <th>32</th>\n",
              "      <td>m</td>\n",
              "      <td>38.5</td>\n",
              "      <td>70.3</td>\n",
              "      <td>18.0</td>\n",
              "      <td>24.7</td>\n",
              "      <td>3.9</td>\n",
              "      <td>11.17</td>\n",
              "      <td>4.80</td>\n",
              "      <td>74.0</td>\n",
              "      <td>15.6</td>\n",
              "      <td>76.5</td>\n",
              "      <td>0=Blood Donor</td>\n",
              "    </tr>\n",
              "    <tr>\n",
              "      <th>32</th>\n",
              "      <td>m</td>\n",
              "      <td>46.9</td>\n",
              "      <td>74.7</td>\n",
              "      <td>36.2</td>\n",
              "      <td>52.6</td>\n",
              "      <td>6.1</td>\n",
              "      <td>8.84</td>\n",
              "      <td>5.20</td>\n",
              "      <td>86.0</td>\n",
              "      <td>33.2</td>\n",
              "      <td>79.3</td>\n",
              "      <td>0=Blood Donor</td>\n",
              "    </tr>\n",
              "    <tr>\n",
              "      <th>32</th>\n",
              "      <td>m</td>\n",
              "      <td>43.2</td>\n",
              "      <td>52.0</td>\n",
              "      <td>30.6</td>\n",
              "      <td>22.6</td>\n",
              "      <td>18.9</td>\n",
              "      <td>7.33</td>\n",
              "      <td>4.74</td>\n",
              "      <td>80.0</td>\n",
              "      <td>33.8</td>\n",
              "      <td>75.7</td>\n",
              "      <td>0=Blood Donor</td>\n",
              "    </tr>\n",
              "    <tr>\n",
              "      <th>32</th>\n",
              "      <td>m</td>\n",
              "      <td>39.2</td>\n",
              "      <td>74.1</td>\n",
              "      <td>32.6</td>\n",
              "      <td>24.8</td>\n",
              "      <td>9.6</td>\n",
              "      <td>9.15</td>\n",
              "      <td>4.32</td>\n",
              "      <td>76.0</td>\n",
              "      <td>29.9</td>\n",
              "      <td>68.7</td>\n",
              "      <td>0=Blood Donor</td>\n",
              "    </tr>\n",
              "  </tbody>\n",
              "</table>\n",
              "</div>\n",
              "      <button class=\"colab-df-convert\" onclick=\"convertToInteractive('df-142eb61a-1c6a-4779-8916-61204679e27c')\"\n",
              "              title=\"Convert this dataframe to an interactive table.\"\n",
              "              style=\"display:none;\">\n",
              "        \n",
              "  <svg xmlns=\"http://www.w3.org/2000/svg\" height=\"24px\"viewBox=\"0 0 24 24\"\n",
              "       width=\"24px\">\n",
              "    <path d=\"M0 0h24v24H0V0z\" fill=\"none\"/>\n",
              "    <path d=\"M18.56 5.44l.94 2.06.94-2.06 2.06-.94-2.06-.94-.94-2.06-.94 2.06-2.06.94zm-11 1L8.5 8.5l.94-2.06 2.06-.94-2.06-.94L8.5 2.5l-.94 2.06-2.06.94zm10 10l.94 2.06.94-2.06 2.06-.94-2.06-.94-.94-2.06-.94 2.06-2.06.94z\"/><path d=\"M17.41 7.96l-1.37-1.37c-.4-.4-.92-.59-1.43-.59-.52 0-1.04.2-1.43.59L10.3 9.45l-7.72 7.72c-.78.78-.78 2.05 0 2.83L4 21.41c.39.39.9.59 1.41.59.51 0 1.02-.2 1.41-.59l7.78-7.78 2.81-2.81c.8-.78.8-2.07 0-2.86zM5.41 20L4 18.59l7.72-7.72 1.47 1.35L5.41 20z\"/>\n",
              "  </svg>\n",
              "      </button>\n",
              "      \n",
              "  <style>\n",
              "    .colab-df-container {\n",
              "      display:flex;\n",
              "      flex-wrap:wrap;\n",
              "      gap: 12px;\n",
              "    }\n",
              "\n",
              "    .colab-df-convert {\n",
              "      background-color: #E8F0FE;\n",
              "      border: none;\n",
              "      border-radius: 50%;\n",
              "      cursor: pointer;\n",
              "      display: none;\n",
              "      fill: #1967D2;\n",
              "      height: 32px;\n",
              "      padding: 0 0 0 0;\n",
              "      width: 32px;\n",
              "    }\n",
              "\n",
              "    .colab-df-convert:hover {\n",
              "      background-color: #E2EBFA;\n",
              "      box-shadow: 0px 1px 2px rgba(60, 64, 67, 0.3), 0px 1px 3px 1px rgba(60, 64, 67, 0.15);\n",
              "      fill: #174EA6;\n",
              "    }\n",
              "\n",
              "    [theme=dark] .colab-df-convert {\n",
              "      background-color: #3B4455;\n",
              "      fill: #D2E3FC;\n",
              "    }\n",
              "\n",
              "    [theme=dark] .colab-df-convert:hover {\n",
              "      background-color: #434B5C;\n",
              "      box-shadow: 0px 1px 3px 1px rgba(0, 0, 0, 0.15);\n",
              "      filter: drop-shadow(0px 1px 2px rgba(0, 0, 0, 0.3));\n",
              "      fill: #FFFFFF;\n",
              "    }\n",
              "  </style>\n",
              "\n",
              "      <script>\n",
              "        const buttonEl =\n",
              "          document.querySelector('#df-142eb61a-1c6a-4779-8916-61204679e27c button.colab-df-convert');\n",
              "        buttonEl.style.display =\n",
              "          google.colab.kernel.accessAllowed ? 'block' : 'none';\n",
              "\n",
              "        async function convertToInteractive(key) {\n",
              "          const element = document.querySelector('#df-142eb61a-1c6a-4779-8916-61204679e27c');\n",
              "          const dataTable =\n",
              "            await google.colab.kernel.invokeFunction('convertToInteractive',\n",
              "                                                     [key], {});\n",
              "          if (!dataTable) return;\n",
              "\n",
              "          const docLinkHtml = 'Like what you see? Visit the ' +\n",
              "            '<a target=\"_blank\" href=https://colab.research.google.com/notebooks/data_table.ipynb>data table notebook</a>'\n",
              "            + ' to learn more about interactive tables.';\n",
              "          element.innerHTML = '';\n",
              "          dataTable['output_type'] = 'display_data';\n",
              "          await google.colab.output.renderOutput(dataTable, element);\n",
              "          const docLink = document.createElement('div');\n",
              "          docLink.innerHTML = docLinkHtml;\n",
              "          element.appendChild(docLink);\n",
              "        }\n",
              "      </script>\n",
              "    </div>\n",
              "  </div>\n",
              "  "
            ]
          },
          "metadata": {},
          "execution_count": 360
        }
      ],
      "source": [
        "df.head()"
      ]
    },
    {
      "cell_type": "code",
      "execution_count": null,
      "metadata": {
        "id": "jcSTwRoN7C51"
      },
      "outputs": [],
      "source": [
        "labelencoder = LabelEncoder()\n",
        "new_df=df\n",
        "new_df['Category']=labelencoder.fit_transform(df['Category'])\n",
        "new_df['Sex']=labelencoder.fit_transform(df['Sex'])"
      ]
    },
    {
      "cell_type": "code",
      "execution_count": null,
      "metadata": {
        "colab": {
          "base_uri": "https://localhost:8080/",
          "height": 143
        },
        "id": "ZYWS_7_uSM32",
        "outputId": "c9684618-0653-4ac6-e0b3-2d291820de39"
      },
      "outputs": [
        {
          "output_type": "execute_result",
          "data": {
            "text/plain": [
              "     Sex   ALB   ALP   ALT   AST  BIL    CHE  CHOL   CREA   GGT  PROT  \\\n",
              "Age                                                                     \n",
              "32     1  38.5  52.5   7.7  22.1  7.5   6.93  3.23  106.0  12.1  69.0   \n",
              "32     1  38.5  70.3  18.0  24.7  3.9  11.17  4.80   74.0  15.6  76.5   \n",
              "\n",
              "     Category  \n",
              "Age            \n",
              "32          0  \n",
              "32          0  "
            ],
            "text/html": [
              "\n",
              "  <div id=\"df-f30f7516-06b7-4b66-a869-8f777e7c5bcf\">\n",
              "    <div class=\"colab-df-container\">\n",
              "      <div>\n",
              "<style scoped>\n",
              "    .dataframe tbody tr th:only-of-type {\n",
              "        vertical-align: middle;\n",
              "    }\n",
              "\n",
              "    .dataframe tbody tr th {\n",
              "        vertical-align: top;\n",
              "    }\n",
              "\n",
              "    .dataframe thead th {\n",
              "        text-align: right;\n",
              "    }\n",
              "</style>\n",
              "<table border=\"1\" class=\"dataframe\">\n",
              "  <thead>\n",
              "    <tr style=\"text-align: right;\">\n",
              "      <th></th>\n",
              "      <th>Sex</th>\n",
              "      <th>ALB</th>\n",
              "      <th>ALP</th>\n",
              "      <th>ALT</th>\n",
              "      <th>AST</th>\n",
              "      <th>BIL</th>\n",
              "      <th>CHE</th>\n",
              "      <th>CHOL</th>\n",
              "      <th>CREA</th>\n",
              "      <th>GGT</th>\n",
              "      <th>PROT</th>\n",
              "      <th>Category</th>\n",
              "    </tr>\n",
              "    <tr>\n",
              "      <th>Age</th>\n",
              "      <th></th>\n",
              "      <th></th>\n",
              "      <th></th>\n",
              "      <th></th>\n",
              "      <th></th>\n",
              "      <th></th>\n",
              "      <th></th>\n",
              "      <th></th>\n",
              "      <th></th>\n",
              "      <th></th>\n",
              "      <th></th>\n",
              "      <th></th>\n",
              "    </tr>\n",
              "  </thead>\n",
              "  <tbody>\n",
              "    <tr>\n",
              "      <th>32</th>\n",
              "      <td>1</td>\n",
              "      <td>38.5</td>\n",
              "      <td>52.5</td>\n",
              "      <td>7.7</td>\n",
              "      <td>22.1</td>\n",
              "      <td>7.5</td>\n",
              "      <td>6.93</td>\n",
              "      <td>3.23</td>\n",
              "      <td>106.0</td>\n",
              "      <td>12.1</td>\n",
              "      <td>69.0</td>\n",
              "      <td>0</td>\n",
              "    </tr>\n",
              "    <tr>\n",
              "      <th>32</th>\n",
              "      <td>1</td>\n",
              "      <td>38.5</td>\n",
              "      <td>70.3</td>\n",
              "      <td>18.0</td>\n",
              "      <td>24.7</td>\n",
              "      <td>3.9</td>\n",
              "      <td>11.17</td>\n",
              "      <td>4.80</td>\n",
              "      <td>74.0</td>\n",
              "      <td>15.6</td>\n",
              "      <td>76.5</td>\n",
              "      <td>0</td>\n",
              "    </tr>\n",
              "  </tbody>\n",
              "</table>\n",
              "</div>\n",
              "      <button class=\"colab-df-convert\" onclick=\"convertToInteractive('df-f30f7516-06b7-4b66-a869-8f777e7c5bcf')\"\n",
              "              title=\"Convert this dataframe to an interactive table.\"\n",
              "              style=\"display:none;\">\n",
              "        \n",
              "  <svg xmlns=\"http://www.w3.org/2000/svg\" height=\"24px\"viewBox=\"0 0 24 24\"\n",
              "       width=\"24px\">\n",
              "    <path d=\"M0 0h24v24H0V0z\" fill=\"none\"/>\n",
              "    <path d=\"M18.56 5.44l.94 2.06.94-2.06 2.06-.94-2.06-.94-.94-2.06-.94 2.06-2.06.94zm-11 1L8.5 8.5l.94-2.06 2.06-.94-2.06-.94L8.5 2.5l-.94 2.06-2.06.94zm10 10l.94 2.06.94-2.06 2.06-.94-2.06-.94-.94-2.06-.94 2.06-2.06.94z\"/><path d=\"M17.41 7.96l-1.37-1.37c-.4-.4-.92-.59-1.43-.59-.52 0-1.04.2-1.43.59L10.3 9.45l-7.72 7.72c-.78.78-.78 2.05 0 2.83L4 21.41c.39.39.9.59 1.41.59.51 0 1.02-.2 1.41-.59l7.78-7.78 2.81-2.81c.8-.78.8-2.07 0-2.86zM5.41 20L4 18.59l7.72-7.72 1.47 1.35L5.41 20z\"/>\n",
              "  </svg>\n",
              "      </button>\n",
              "      \n",
              "  <style>\n",
              "    .colab-df-container {\n",
              "      display:flex;\n",
              "      flex-wrap:wrap;\n",
              "      gap: 12px;\n",
              "    }\n",
              "\n",
              "    .colab-df-convert {\n",
              "      background-color: #E8F0FE;\n",
              "      border: none;\n",
              "      border-radius: 50%;\n",
              "      cursor: pointer;\n",
              "      display: none;\n",
              "      fill: #1967D2;\n",
              "      height: 32px;\n",
              "      padding: 0 0 0 0;\n",
              "      width: 32px;\n",
              "    }\n",
              "\n",
              "    .colab-df-convert:hover {\n",
              "      background-color: #E2EBFA;\n",
              "      box-shadow: 0px 1px 2px rgba(60, 64, 67, 0.3), 0px 1px 3px 1px rgba(60, 64, 67, 0.15);\n",
              "      fill: #174EA6;\n",
              "    }\n",
              "\n",
              "    [theme=dark] .colab-df-convert {\n",
              "      background-color: #3B4455;\n",
              "      fill: #D2E3FC;\n",
              "    }\n",
              "\n",
              "    [theme=dark] .colab-df-convert:hover {\n",
              "      background-color: #434B5C;\n",
              "      box-shadow: 0px 1px 3px 1px rgba(0, 0, 0, 0.15);\n",
              "      filter: drop-shadow(0px 1px 2px rgba(0, 0, 0, 0.3));\n",
              "      fill: #FFFFFF;\n",
              "    }\n",
              "  </style>\n",
              "\n",
              "      <script>\n",
              "        const buttonEl =\n",
              "          document.querySelector('#df-f30f7516-06b7-4b66-a869-8f777e7c5bcf button.colab-df-convert');\n",
              "        buttonEl.style.display =\n",
              "          google.colab.kernel.accessAllowed ? 'block' : 'none';\n",
              "\n",
              "        async function convertToInteractive(key) {\n",
              "          const element = document.querySelector('#df-f30f7516-06b7-4b66-a869-8f777e7c5bcf');\n",
              "          const dataTable =\n",
              "            await google.colab.kernel.invokeFunction('convertToInteractive',\n",
              "                                                     [key], {});\n",
              "          if (!dataTable) return;\n",
              "\n",
              "          const docLinkHtml = 'Like what you see? Visit the ' +\n",
              "            '<a target=\"_blank\" href=https://colab.research.google.com/notebooks/data_table.ipynb>data table notebook</a>'\n",
              "            + ' to learn more about interactive tables.';\n",
              "          element.innerHTML = '';\n",
              "          dataTable['output_type'] = 'display_data';\n",
              "          await google.colab.output.renderOutput(dataTable, element);\n",
              "          const docLink = document.createElement('div');\n",
              "          docLink.innerHTML = docLinkHtml;\n",
              "          element.appendChild(docLink);\n",
              "        }\n",
              "      </script>\n",
              "    </div>\n",
              "  </div>\n",
              "  "
            ]
          },
          "metadata": {},
          "execution_count": 362
        }
      ],
      "source": [
        "new_df.head(2)"
      ]
    },
    {
      "cell_type": "code",
      "source": [
        "a=df.corr()\n",
        "a.style.background_gradient(cmap='Paired')"
      ],
      "metadata": {
        "colab": {
          "base_uri": "https://localhost:8080/",
          "height": 425
        },
        "id": "15PbwU2poill",
        "outputId": "54c652df-6c8b-4ae3-9ffc-fe6edfa3cc55"
      },
      "execution_count": null,
      "outputs": [
        {
          "output_type": "execute_result",
          "data": {
            "text/plain": [
              "<pandas.io.formats.style.Styler at 0x7fab19f969d0>"
            ],
            "text/html": [
              "<style type=\"text/css\">\n",
              "#T_5f6d0_row0_col0, #T_5f6d0_row1_col1, #T_5f6d0_row2_col2, #T_5f6d0_row3_col3, #T_5f6d0_row4_col4, #T_5f6d0_row5_col5, #T_5f6d0_row6_col6, #T_5f6d0_row7_col7, #T_5f6d0_row8_col8, #T_5f6d0_row9_col9, #T_5f6d0_row10_col10, #T_5f6d0_row11_col11 {\n",
              "  background-color: #b15928;\n",
              "  color: #f1f1f1;\n",
              "}\n",
              "#T_5f6d0_row0_col1, #T_5f6d0_row0_col6, #T_5f6d0_row1_col7, #T_5f6d0_row2_col7, #T_5f6d0_row3_col4, #T_5f6d0_row3_col6, #T_5f6d0_row3_col9, #T_5f6d0_row7_col1, #T_5f6d0_row7_col10, #T_5f6d0_row8_col11, #T_5f6d0_row9_col5, #T_5f6d0_row10_col7 {\n",
              "  background-color: #fb9a99;\n",
              "  color: #000000;\n",
              "}\n",
              "#T_5f6d0_row0_col2, #T_5f6d0_row1_col0, #T_5f6d0_row1_col5, #T_5f6d0_row2_col4, #T_5f6d0_row2_col11, #T_5f6d0_row3_col2, #T_5f6d0_row4_col0, #T_5f6d0_row4_col1, #T_5f6d0_row4_col2, #T_5f6d0_row4_col6, #T_5f6d0_row5_col0, #T_5f6d0_row5_col2, #T_5f6d0_row7_col3, #T_5f6d0_row7_col5, #T_5f6d0_row7_col9, #T_5f6d0_row8_col4, #T_5f6d0_row9_col0, #T_5f6d0_row9_col1, #T_5f6d0_row9_col8, #T_5f6d0_row10_col2, #T_5f6d0_row10_col3, #T_5f6d0_row10_col4, #T_5f6d0_row10_col9, #T_5f6d0_row11_col0, #T_5f6d0_row11_col3 {\n",
              "  background-color: #1f78b4;\n",
              "  color: #f1f1f1;\n",
              "}\n",
              "#T_5f6d0_row0_col3, #T_5f6d0_row0_col7, #T_5f6d0_row0_col8, #T_5f6d0_row0_col10, #T_5f6d0_row2_col1, #T_5f6d0_row2_col5, #T_5f6d0_row2_col8, #T_5f6d0_row2_col10, #T_5f6d0_row3_col0, #T_5f6d0_row3_col1, #T_5f6d0_row3_col5, #T_5f6d0_row4_col10, #T_5f6d0_row6_col0, #T_5f6d0_row6_col2, #T_5f6d0_row6_col3, #T_5f6d0_row8_col0, #T_5f6d0_row8_col1, #T_5f6d0_row8_col6, #T_5f6d0_row8_col7, #T_5f6d0_row8_col9, #T_5f6d0_row8_col10, #T_5f6d0_row9_col6, #T_5f6d0_row9_col7, #T_5f6d0_row9_col10, #T_5f6d0_row10_col11, #T_5f6d0_row11_col8, #T_5f6d0_row11_col10 {\n",
              "  background-color: #b2df8a;\n",
              "  color: #000000;\n",
              "}\n",
              "#T_5f6d0_row0_col4, #T_5f6d0_row0_col5, #T_5f6d0_row0_col9, #T_5f6d0_row0_col11, #T_5f6d0_row2_col6, #T_5f6d0_row3_col7, #T_5f6d0_row3_col10, #T_5f6d0_row3_col11, #T_5f6d0_row4_col3, #T_5f6d0_row5_col9, #T_5f6d0_row7_col2, #T_5f6d0_row8_col2, #T_5f6d0_row8_col5, #T_5f6d0_row9_col3 {\n",
              "  background-color: #33a02c;\n",
              "  color: #f1f1f1;\n",
              "}\n",
              "#T_5f6d0_row1_col2, #T_5f6d0_row1_col3, #T_5f6d0_row1_col4, #T_5f6d0_row1_col8, #T_5f6d0_row1_col9, #T_5f6d0_row1_col11, #T_5f6d0_row2_col0, #T_5f6d0_row2_col3, #T_5f6d0_row3_col8, #T_5f6d0_row4_col7, #T_5f6d0_row4_col8, #T_5f6d0_row5_col1, #T_5f6d0_row5_col3, #T_5f6d0_row5_col6, #T_5f6d0_row5_col7, #T_5f6d0_row5_col8, #T_5f6d0_row5_col10, #T_5f6d0_row6_col4, #T_5f6d0_row6_col5, #T_5f6d0_row6_col8, #T_5f6d0_row6_col9, #T_5f6d0_row6_col11, #T_5f6d0_row7_col0, #T_5f6d0_row7_col4, #T_5f6d0_row7_col8, #T_5f6d0_row7_col11, #T_5f6d0_row8_col3, #T_5f6d0_row10_col0, #T_5f6d0_row10_col5, #T_5f6d0_row10_col8, #T_5f6d0_row11_col1, #T_5f6d0_row11_col2, #T_5f6d0_row11_col6, #T_5f6d0_row11_col7 {\n",
              "  background-color: #a6cee3;\n",
              "  color: #000000;\n",
              "}\n",
              "#T_5f6d0_row1_col6, #T_5f6d0_row4_col9, #T_5f6d0_row6_col1, #T_5f6d0_row6_col7, #T_5f6d0_row7_col6, #T_5f6d0_row9_col4, #T_5f6d0_row11_col9 {\n",
              "  background-color: #fdbf6f;\n",
              "  color: #000000;\n",
              "}\n",
              "#T_5f6d0_row1_col10, #T_5f6d0_row5_col11, #T_5f6d0_row9_col11, #T_5f6d0_row10_col1, #T_5f6d0_row11_col5 {\n",
              "  background-color: #ff7f00;\n",
              "  color: #f1f1f1;\n",
              "}\n",
              "#T_5f6d0_row2_col9, #T_5f6d0_row4_col5, #T_5f6d0_row5_col4, #T_5f6d0_row6_col10, #T_5f6d0_row9_col2, #T_5f6d0_row10_col6 {\n",
              "  background-color: #e31a1c;\n",
              "  color: #f1f1f1;\n",
              "}\n",
              "#T_5f6d0_row4_col11, #T_5f6d0_row11_col4 {\n",
              "  background-color: #cab2d6;\n",
              "  color: #000000;\n",
              "}\n",
              "</style>\n",
              "<table id=\"T_5f6d0_\" class=\"dataframe\">\n",
              "  <thead>\n",
              "    <tr>\n",
              "      <th class=\"blank level0\" >&nbsp;</th>\n",
              "      <th class=\"col_heading level0 col0\" >Sex</th>\n",
              "      <th class=\"col_heading level0 col1\" >ALB</th>\n",
              "      <th class=\"col_heading level0 col2\" >ALP</th>\n",
              "      <th class=\"col_heading level0 col3\" >ALT</th>\n",
              "      <th class=\"col_heading level0 col4\" >AST</th>\n",
              "      <th class=\"col_heading level0 col5\" >BIL</th>\n",
              "      <th class=\"col_heading level0 col6\" >CHE</th>\n",
              "      <th class=\"col_heading level0 col7\" >CHOL</th>\n",
              "      <th class=\"col_heading level0 col8\" >CREA</th>\n",
              "      <th class=\"col_heading level0 col9\" >GGT</th>\n",
              "      <th class=\"col_heading level0 col10\" >PROT</th>\n",
              "      <th class=\"col_heading level0 col11\" >Category</th>\n",
              "    </tr>\n",
              "  </thead>\n",
              "  <tbody>\n",
              "    <tr>\n",
              "      <th id=\"T_5f6d0_level0_row0\" class=\"row_heading level0 row0\" >Sex</th>\n",
              "      <td id=\"T_5f6d0_row0_col0\" class=\"data row0 col0\" >1.000000</td>\n",
              "      <td id=\"T_5f6d0_row0_col1\" class=\"data row0 col1\" >0.131317</td>\n",
              "      <td id=\"T_5f6d0_row0_col2\" class=\"data row0 col2\" >-0.025669</td>\n",
              "      <td id=\"T_5f6d0_row0_col3\" class=\"data row0 col3\" >0.160177</td>\n",
              "      <td id=\"T_5f6d0_row0_col4\" class=\"data row0 col4\" >0.130891</td>\n",
              "      <td id=\"T_5f6d0_row0_col5\" class=\"data row0 col5\" >0.111177</td>\n",
              "      <td id=\"T_5f6d0_row0_col6\" class=\"data row0 col6\" >0.169111</td>\n",
              "      <td id=\"T_5f6d0_row0_col7\" class=\"data row0 col7\" >0.017186</td>\n",
              "      <td id=\"T_5f6d0_row0_col8\" class=\"data row0 col8\" >0.159589</td>\n",
              "      <td id=\"T_5f6d0_row0_col9\" class=\"data row0 col9\" >0.133276</td>\n",
              "      <td id=\"T_5f6d0_row0_col10\" class=\"data row0 col10\" >0.029935</td>\n",
              "      <td id=\"T_5f6d0_row0_col11\" class=\"data row0 col11\" >0.060657</td>\n",
              "    </tr>\n",
              "    <tr>\n",
              "      <th id=\"T_5f6d0_level0_row1\" class=\"row_heading level0 row1\" >ALB</th>\n",
              "      <td id=\"T_5f6d0_row1_col0\" class=\"data row1 col0\" >0.131317</td>\n",
              "      <td id=\"T_5f6d0_row1_col1\" class=\"data row1 col1\" >1.000000</td>\n",
              "      <td id=\"T_5f6d0_row1_col2\" class=\"data row1 col2\" >-0.071028</td>\n",
              "      <td id=\"T_5f6d0_row1_col3\" class=\"data row1 col3\" >-0.004611</td>\n",
              "      <td id=\"T_5f6d0_row1_col4\" class=\"data row1 col4\" >-0.192259</td>\n",
              "      <td id=\"T_5f6d0_row1_col5\" class=\"data row1 col5\" >-0.213765</td>\n",
              "      <td id=\"T_5f6d0_row1_col6\" class=\"data row1 col6\" >0.364480</td>\n",
              "      <td id=\"T_5f6d0_row1_col7\" class=\"data row1 col7\" >0.209717</td>\n",
              "      <td id=\"T_5f6d0_row1_col8\" class=\"data row1 col8\" >0.001046</td>\n",
              "      <td id=\"T_5f6d0_row1_col9\" class=\"data row1 col9\" >-0.163287</td>\n",
              "      <td id=\"T_5f6d0_row1_col10\" class=\"data row1 col10\" >0.520910</td>\n",
              "      <td id=\"T_5f6d0_row1_col11\" class=\"data row1 col11\" >-0.312823</td>\n",
              "    </tr>\n",
              "    <tr>\n",
              "      <th id=\"T_5f6d0_level0_row2\" class=\"row_heading level0 row2\" >ALP</th>\n",
              "      <td id=\"T_5f6d0_row2_col0\" class=\"data row2 col0\" >-0.025669</td>\n",
              "      <td id=\"T_5f6d0_row2_col1\" class=\"data row2 col1\" >-0.071028</td>\n",
              "      <td id=\"T_5f6d0_row2_col2\" class=\"data row2 col2\" >1.000000</td>\n",
              "      <td id=\"T_5f6d0_row2_col3\" class=\"data row2 col3\" >-0.029767</td>\n",
              "      <td id=\"T_5f6d0_row2_col4\" class=\"data row2 col4\" >-0.019753</td>\n",
              "      <td id=\"T_5f6d0_row2_col5\" class=\"data row2 col5\" >-0.009932</td>\n",
              "      <td id=\"T_5f6d0_row2_col6\" class=\"data row2 col6\" >0.053445</td>\n",
              "      <td id=\"T_5f6d0_row2_col7\" class=\"data row2 col7\" >0.156822</td>\n",
              "      <td id=\"T_5f6d0_row2_col8\" class=\"data row2 col8\" >0.145103</td>\n",
              "      <td id=\"T_5f6d0_row2_col9\" class=\"data row2 col9\" >0.337397</td>\n",
              "      <td id=\"T_5f6d0_row2_col10\" class=\"data row2 col10\" >-0.056836</td>\n",
              "      <td id=\"T_5f6d0_row2_col11\" class=\"data row2 col11\" >-0.162111</td>\n",
              "    </tr>\n",
              "    <tr>\n",
              "      <th id=\"T_5f6d0_level0_row3\" class=\"row_heading level0 row3\" >ALT</th>\n",
              "      <td id=\"T_5f6d0_row3_col0\" class=\"data row3 col0\" >0.160177</td>\n",
              "      <td id=\"T_5f6d0_row3_col1\" class=\"data row3 col1\" >-0.004611</td>\n",
              "      <td id=\"T_5f6d0_row3_col2\" class=\"data row3 col2\" >-0.029767</td>\n",
              "      <td id=\"T_5f6d0_row3_col3\" class=\"data row3 col3\" >1.000000</td>\n",
              "      <td id=\"T_5f6d0_row3_col4\" class=\"data row3 col4\" >0.273140</td>\n",
              "      <td id=\"T_5f6d0_row3_col5\" class=\"data row3 col5\" >-0.038022</td>\n",
              "      <td id=\"T_5f6d0_row3_col6\" class=\"data row3 col6\" >0.145663</td>\n",
              "      <td id=\"T_5f6d0_row3_col7\" class=\"data row3 col7\" >0.049990</td>\n",
              "      <td id=\"T_5f6d0_row3_col8\" class=\"data row3 col8\" >-0.042857</td>\n",
              "      <td id=\"T_5f6d0_row3_col9\" class=\"data row3 col9\" >0.248520</td>\n",
              "      <td id=\"T_5f6d0_row3_col10\" class=\"data row3 col10\" >0.060461</td>\n",
              "      <td id=\"T_5f6d0_row3_col11\" class=\"data row3 col11\" >0.103473</td>\n",
              "    </tr>\n",
              "    <tr>\n",
              "      <th id=\"T_5f6d0_level0_row4\" class=\"row_heading level0 row4\" >AST</th>\n",
              "      <td id=\"T_5f6d0_row4_col0\" class=\"data row4 col0\" >0.130891</td>\n",
              "      <td id=\"T_5f6d0_row4_col1\" class=\"data row4 col1\" >-0.192259</td>\n",
              "      <td id=\"T_5f6d0_row4_col2\" class=\"data row4 col2\" >-0.019753</td>\n",
              "      <td id=\"T_5f6d0_row4_col3\" class=\"data row4 col3\" >0.273140</td>\n",
              "      <td id=\"T_5f6d0_row4_col4\" class=\"data row4 col4\" >1.000000</td>\n",
              "      <td id=\"T_5f6d0_row4_col5\" class=\"data row4 col5\" >0.312231</td>\n",
              "      <td id=\"T_5f6d0_row4_col6\" class=\"data row4 col6\" >-0.208536</td>\n",
              "      <td id=\"T_5f6d0_row4_col7\" class=\"data row4 col7\" >-0.207026</td>\n",
              "      <td id=\"T_5f6d0_row4_col8\" class=\"data row4 col8\" >-0.021387</td>\n",
              "      <td id=\"T_5f6d0_row4_col9\" class=\"data row4 col9\" >0.491263</td>\n",
              "      <td id=\"T_5f6d0_row4_col10\" class=\"data row4 col10\" >-0.010115</td>\n",
              "      <td id=\"T_5f6d0_row4_col11\" class=\"data row4 col11\" >0.648341</td>\n",
              "    </tr>\n",
              "    <tr>\n",
              "      <th id=\"T_5f6d0_level0_row5\" class=\"row_heading level0 row5\" >BIL</th>\n",
              "      <td id=\"T_5f6d0_row5_col0\" class=\"data row5 col0\" >0.111177</td>\n",
              "      <td id=\"T_5f6d0_row5_col1\" class=\"data row5 col1\" >-0.213765</td>\n",
              "      <td id=\"T_5f6d0_row5_col2\" class=\"data row5 col2\" >-0.009932</td>\n",
              "      <td id=\"T_5f6d0_row5_col3\" class=\"data row5 col3\" >-0.038022</td>\n",
              "      <td id=\"T_5f6d0_row5_col4\" class=\"data row5 col4\" >0.312231</td>\n",
              "      <td id=\"T_5f6d0_row5_col5\" class=\"data row5 col5\" >1.000000</td>\n",
              "      <td id=\"T_5f6d0_row5_col6\" class=\"data row5 col6\" >-0.333172</td>\n",
              "      <td id=\"T_5f6d0_row5_col7\" class=\"data row5 col7\" >-0.202870</td>\n",
              "      <td id=\"T_5f6d0_row5_col8\" class=\"data row5 col8\" >0.031224</td>\n",
              "      <td id=\"T_5f6d0_row5_col9\" class=\"data row5 col9\" >0.217024</td>\n",
              "      <td id=\"T_5f6d0_row5_col10\" class=\"data row5 col10\" >-0.272408</td>\n",
              "      <td id=\"T_5f6d0_row5_col11\" class=\"data row5 col11\" >0.473006</td>\n",
              "    </tr>\n",
              "    <tr>\n",
              "      <th id=\"T_5f6d0_level0_row6\" class=\"row_heading level0 row6\" >CHE</th>\n",
              "      <td id=\"T_5f6d0_row6_col0\" class=\"data row6 col0\" >0.169111</td>\n",
              "      <td id=\"T_5f6d0_row6_col1\" class=\"data row6 col1\" >0.364480</td>\n",
              "      <td id=\"T_5f6d0_row6_col2\" class=\"data row6 col2\" >0.053445</td>\n",
              "      <td id=\"T_5f6d0_row6_col3\" class=\"data row6 col3\" >0.145663</td>\n",
              "      <td id=\"T_5f6d0_row6_col4\" class=\"data row6 col4\" >-0.208536</td>\n",
              "      <td id=\"T_5f6d0_row6_col5\" class=\"data row6 col5\" >-0.333172</td>\n",
              "      <td id=\"T_5f6d0_row6_col6\" class=\"data row6 col6\" >1.000000</td>\n",
              "      <td id=\"T_5f6d0_row6_col7\" class=\"data row6 col7\" >0.363859</td>\n",
              "      <td id=\"T_5f6d0_row6_col8\" class=\"data row6 col8\" >-0.011157</td>\n",
              "      <td id=\"T_5f6d0_row6_col9\" class=\"data row6 col9\" >-0.110345</td>\n",
              "      <td id=\"T_5f6d0_row6_col10\" class=\"data row6 col10\" >0.316459</td>\n",
              "      <td id=\"T_5f6d0_row6_col11\" class=\"data row6 col11\" >-0.329472</td>\n",
              "    </tr>\n",
              "    <tr>\n",
              "      <th id=\"T_5f6d0_level0_row7\" class=\"row_heading level0 row7\" >CHOL</th>\n",
              "      <td id=\"T_5f6d0_row7_col0\" class=\"data row7 col0\" >0.017186</td>\n",
              "      <td id=\"T_5f6d0_row7_col1\" class=\"data row7 col1\" >0.209717</td>\n",
              "      <td id=\"T_5f6d0_row7_col2\" class=\"data row7 col2\" >0.156822</td>\n",
              "      <td id=\"T_5f6d0_row7_col3\" class=\"data row7 col3\" >0.049990</td>\n",
              "      <td id=\"T_5f6d0_row7_col4\" class=\"data row7 col4\" >-0.207026</td>\n",
              "      <td id=\"T_5f6d0_row7_col5\" class=\"data row7 col5\" >-0.202870</td>\n",
              "      <td id=\"T_5f6d0_row7_col6\" class=\"data row7 col6\" >0.363859</td>\n",
              "      <td id=\"T_5f6d0_row7_col7\" class=\"data row7 col7\" >1.000000</td>\n",
              "      <td id=\"T_5f6d0_row7_col8\" class=\"data row7 col8\" >-0.025413</td>\n",
              "      <td id=\"T_5f6d0_row7_col9\" class=\"data row7 col9\" >-0.029935</td>\n",
              "      <td id=\"T_5f6d0_row7_col10\" class=\"data row7 col10\" >0.215883</td>\n",
              "      <td id=\"T_5f6d0_row7_col11\" class=\"data row7 col11\" >-0.302038</td>\n",
              "    </tr>\n",
              "    <tr>\n",
              "      <th id=\"T_5f6d0_level0_row8\" class=\"row_heading level0 row8\" >CREA</th>\n",
              "      <td id=\"T_5f6d0_row8_col0\" class=\"data row8 col0\" >0.159589</td>\n",
              "      <td id=\"T_5f6d0_row8_col1\" class=\"data row8 col1\" >0.001046</td>\n",
              "      <td id=\"T_5f6d0_row8_col2\" class=\"data row8 col2\" >0.145103</td>\n",
              "      <td id=\"T_5f6d0_row8_col3\" class=\"data row8 col3\" >-0.042857</td>\n",
              "      <td id=\"T_5f6d0_row8_col4\" class=\"data row8 col4\" >-0.021387</td>\n",
              "      <td id=\"T_5f6d0_row8_col5\" class=\"data row8 col5\" >0.031224</td>\n",
              "      <td id=\"T_5f6d0_row8_col6\" class=\"data row8 col6\" >-0.011157</td>\n",
              "      <td id=\"T_5f6d0_row8_col7\" class=\"data row8 col7\" >-0.025413</td>\n",
              "      <td id=\"T_5f6d0_row8_col8\" class=\"data row8 col8\" >1.000000</td>\n",
              "      <td id=\"T_5f6d0_row8_col9\" class=\"data row8 col9\" >0.121003</td>\n",
              "      <td id=\"T_5f6d0_row8_col10\" class=\"data row8 col10\" >-0.040492</td>\n",
              "      <td id=\"T_5f6d0_row8_col11\" class=\"data row8 col11\" >0.182040</td>\n",
              "    </tr>\n",
              "    <tr>\n",
              "      <th id=\"T_5f6d0_level0_row9\" class=\"row_heading level0 row9\" >GGT</th>\n",
              "      <td id=\"T_5f6d0_row9_col0\" class=\"data row9 col0\" >0.133276</td>\n",
              "      <td id=\"T_5f6d0_row9_col1\" class=\"data row9 col1\" >-0.163287</td>\n",
              "      <td id=\"T_5f6d0_row9_col2\" class=\"data row9 col2\" >0.337397</td>\n",
              "      <td id=\"T_5f6d0_row9_col3\" class=\"data row9 col3\" >0.248520</td>\n",
              "      <td id=\"T_5f6d0_row9_col4\" class=\"data row9 col4\" >0.491263</td>\n",
              "      <td id=\"T_5f6d0_row9_col5\" class=\"data row9 col5\" >0.217024</td>\n",
              "      <td id=\"T_5f6d0_row9_col6\" class=\"data row9 col6\" >-0.110345</td>\n",
              "      <td id=\"T_5f6d0_row9_col7\" class=\"data row9 col7\" >-0.029935</td>\n",
              "      <td id=\"T_5f6d0_row9_col8\" class=\"data row9 col8\" >0.121003</td>\n",
              "      <td id=\"T_5f6d0_row9_col9\" class=\"data row9 col9\" >1.000000</td>\n",
              "      <td id=\"T_5f6d0_row9_col10\" class=\"data row9 col10\" >-0.044813</td>\n",
              "      <td id=\"T_5f6d0_row9_col11\" class=\"data row9 col11\" >0.471164</td>\n",
              "    </tr>\n",
              "    <tr>\n",
              "      <th id=\"T_5f6d0_level0_row10\" class=\"row_heading level0 row10\" >PROT</th>\n",
              "      <td id=\"T_5f6d0_row10_col0\" class=\"data row10 col0\" >0.029935</td>\n",
              "      <td id=\"T_5f6d0_row10_col1\" class=\"data row10 col1\" >0.520910</td>\n",
              "      <td id=\"T_5f6d0_row10_col2\" class=\"data row10 col2\" >-0.056836</td>\n",
              "      <td id=\"T_5f6d0_row10_col3\" class=\"data row10 col3\" >0.060461</td>\n",
              "      <td id=\"T_5f6d0_row10_col4\" class=\"data row10 col4\" >-0.010115</td>\n",
              "      <td id=\"T_5f6d0_row10_col5\" class=\"data row10 col5\" >-0.272408</td>\n",
              "      <td id=\"T_5f6d0_row10_col6\" class=\"data row10 col6\" >0.316459</td>\n",
              "      <td id=\"T_5f6d0_row10_col7\" class=\"data row10 col7\" >0.215883</td>\n",
              "      <td id=\"T_5f6d0_row10_col8\" class=\"data row10 col8\" >-0.040492</td>\n",
              "      <td id=\"T_5f6d0_row10_col9\" class=\"data row10 col9\" >-0.044813</td>\n",
              "      <td id=\"T_5f6d0_row10_col10\" class=\"data row10 col10\" >1.000000</td>\n",
              "      <td id=\"T_5f6d0_row10_col11\" class=\"data row10 col11\" >-0.059413</td>\n",
              "    </tr>\n",
              "    <tr>\n",
              "      <th id=\"T_5f6d0_level0_row11\" class=\"row_heading level0 row11\" >Category</th>\n",
              "      <td id=\"T_5f6d0_row11_col0\" class=\"data row11 col0\" >0.060657</td>\n",
              "      <td id=\"T_5f6d0_row11_col1\" class=\"data row11 col1\" >-0.312823</td>\n",
              "      <td id=\"T_5f6d0_row11_col2\" class=\"data row11 col2\" >-0.162111</td>\n",
              "      <td id=\"T_5f6d0_row11_col3\" class=\"data row11 col3\" >0.103473</td>\n",
              "      <td id=\"T_5f6d0_row11_col4\" class=\"data row11 col4\" >0.648341</td>\n",
              "      <td id=\"T_5f6d0_row11_col5\" class=\"data row11 col5\" >0.473006</td>\n",
              "      <td id=\"T_5f6d0_row11_col6\" class=\"data row11 col6\" >-0.329472</td>\n",
              "      <td id=\"T_5f6d0_row11_col7\" class=\"data row11 col7\" >-0.302038</td>\n",
              "      <td id=\"T_5f6d0_row11_col8\" class=\"data row11 col8\" >0.182040</td>\n",
              "      <td id=\"T_5f6d0_row11_col9\" class=\"data row11 col9\" >0.471164</td>\n",
              "      <td id=\"T_5f6d0_row11_col10\" class=\"data row11 col10\" >-0.059413</td>\n",
              "      <td id=\"T_5f6d0_row11_col11\" class=\"data row11 col11\" >1.000000</td>\n",
              "    </tr>\n",
              "  </tbody>\n",
              "</table>\n"
            ]
          },
          "metadata": {},
          "execution_count": 363
        }
      ]
    },
    {
      "cell_type": "code",
      "execution_count": null,
      "metadata": {
        "colab": {
          "base_uri": "https://localhost:8080/"
        },
        "id": "xHaX6IH1PH0E",
        "outputId": "760ec9cc-3a3f-4946-aada-bc016bc1c389"
      },
      "outputs": [
        {
          "output_type": "stream",
          "name": "stdout",
          "text": [
            "      ALB    ALP    ALT    AST   BIL    CHE  CHOL   CREA    GGT  PROT  \\\n",
            "Age                                                                     \n",
            "32   38.5   52.5    7.7   22.1   7.5   6.93  3.23  106.0   12.1  69.0   \n",
            "32   38.5   70.3   18.0   24.7   3.9  11.17  4.80   74.0   15.6  76.5   \n",
            "32   46.9   74.7   36.2   52.6   6.1   8.84  5.20   86.0   33.2  79.3   \n",
            "32   43.2   52.0   30.6   22.6  18.9   7.33  4.74   80.0   33.8  75.7   \n",
            "32   39.2   74.1   32.6   24.8   9.6   9.15  4.32   76.0   29.9  68.7   \n",
            "..    ...    ...    ...    ...   ...    ...   ...    ...    ...   ...   \n",
            "62   32.0  416.6    5.9  110.3  50.0   5.57  6.30   55.7  650.9  68.5   \n",
            "64   24.0  102.8    2.9   44.4  20.0   1.54  3.02   63.0   35.9  71.3   \n",
            "64   29.0   87.3    3.5   99.0  48.0   1.66  3.63   66.7   64.2  82.0   \n",
            "46   33.0    0.0   39.0   62.0  20.0   3.56  4.20   52.0   50.0  71.0   \n",
            "59   36.0    0.0  100.0   80.0  12.0   9.07  5.30   67.0   34.0  68.0   \n",
            "\n",
            "     Category  \n",
            "Age            \n",
            "32          0  \n",
            "32          0  \n",
            "32          0  \n",
            "32          0  \n",
            "32          0  \n",
            "..        ...  \n",
            "62          4  \n",
            "64          4  \n",
            "64          4  \n",
            "46          4  \n",
            "59          4  \n",
            "\n",
            "[615 rows x 11 columns]\n"
          ]
        }
      ],
      "source": [
        "x= new_df.iloc[:, 1:]\n",
        "print(x)"
      ]
    },
    {
      "cell_type": "code",
      "execution_count": null,
      "metadata": {
        "colab": {
          "base_uri": "https://localhost:8080/"
        },
        "id": "xre0tV5wP0Jc",
        "outputId": "f5991544-10da-40fc-d1e0-aba1f1c68453"
      },
      "outputs": [
        {
          "output_type": "stream",
          "name": "stdout",
          "text": [
            "Age\n",
            "32    1\n",
            "32    1\n",
            "32    1\n",
            "32    1\n",
            "32    1\n",
            "     ..\n",
            "62    0\n",
            "64    0\n",
            "64    0\n",
            "46    0\n",
            "59    0\n",
            "Name: Sex, Length: 615, dtype: int64\n"
          ]
        }
      ],
      "source": [
        "y= new_df.iloc[:, 0]\n",
        "print(y)"
      ]
    },
    {
      "cell_type": "code",
      "execution_count": null,
      "metadata": {
        "id": "N7pjvRzO3Iz6"
      },
      "outputs": [],
      "source": [
        "#Extracting Independent and dependent Variable  \n",
        "#all rows from  1 column to last,  except column 0 that is Category \n",
        "#all rows from  0 column ie Category\n",
        "x= new_df.iloc[:, 1:].values  \n",
        "y= new_df.iloc[:, 0].values  "
      ]
    },
    {
      "cell_type": "code",
      "execution_count": null,
      "metadata": {
        "id": "KgIWiFps3MXN"
      },
      "outputs": [],
      "source": [
        "# Splitting the dataset into training and test set.  \n",
        "from sklearn.model_selection import train_test_split  \n",
        "x_train, x_test, y_train, y_test= train_test_split(x, y, test_size= 0.20, random_state=0)  "
      ]
    },
    {
      "cell_type": "code",
      "execution_count": null,
      "metadata": {
        "id": "SP6XgXg53QcO"
      },
      "outputs": [],
      "source": [
        "#feature Scaling  \n",
        "from sklearn.preprocessing import StandardScaler    \n",
        "st_x= StandardScaler()    \n",
        "x_train= st_x.fit_transform(x_train)    \n",
        "x_test= st_x.transform(x_test)  "
      ]
    },
    {
      "cell_type": "code",
      "execution_count": null,
      "metadata": {
        "colab": {
          "base_uri": "https://localhost:8080/"
        },
        "id": "tCgPDF1G5Su9",
        "outputId": "c2d8597e-c1dc-4b63-c41f-353321373299"
      },
      "outputs": [
        {
          "output_type": "execute_result",
          "data": {
            "text/plain": [
              "LogisticRegression(random_state=0)"
            ]
          },
          "metadata": {},
          "execution_count": 399
        }
      ],
      "source": [
        "#Fitting Logistic Regression to the training set  \n",
        "from sklearn.linear_model import LogisticRegression  \n",
        "classifier= LogisticRegression(random_state=0)  \n",
        "classifier.fit(x_train, y_train)  "
      ]
    },
    {
      "cell_type": "code",
      "execution_count": null,
      "metadata": {
        "id": "FS0NOrfx3TZ6"
      },
      "outputs": [],
      "source": [
        "#Predicting the test set result  \n",
        "y_pred= classifier.predict(x_test)  "
      ]
    },
    {
      "cell_type": "code",
      "execution_count": null,
      "metadata": {
        "colab": {
          "base_uri": "https://localhost:8080/"
        },
        "id": "ngtyrzij5dfA",
        "outputId": "fbd7261a-e5db-493b-94db-36525ca0e29d"
      },
      "outputs": [
        {
          "output_type": "execute_result",
          "data": {
            "text/plain": [
              "array([[31, 21],\n",
              "       [12, 59]])"
            ]
          },
          "metadata": {},
          "execution_count": 401
        }
      ],
      "source": [
        "#Creating the Confusion matrix  \n",
        "from sklearn.metrics import confusion_matrix  \n",
        "cm= confusion_matrix(y_test, y_pred)  \n",
        "cm"
      ]
    },
    {
      "cell_type": "code",
      "source": [
        "acc=list()"
      ],
      "metadata": {
        "id": "aE0hECVyi4Sd"
      },
      "execution_count": null,
      "outputs": []
    },
    {
      "cell_type": "code",
      "source": [
        "tp=cm[0][0]\n",
        "fp=cm[0][1]\n",
        "fn=cm[1][0]\n",
        "tn=cm[1][1]\n",
        "precision=tp/(tp+fp)\n",
        "recall=tp/(tp+fn)\n",
        "a=(tp+tn)/(tp+tn+fp+fn)\n",
        "specificity = tn / (tn + fp)"
      ],
      "metadata": {
        "id": "n6ZEnnJGfyt-"
      },
      "execution_count": null,
      "outputs": []
    },
    {
      "cell_type": "code",
      "source": [
        "acc.append(a)"
      ],
      "metadata": {
        "id": "jFeRdRBwmf55"
      },
      "execution_count": null,
      "outputs": []
    },
    {
      "cell_type": "code",
      "source": [
        "print(\"tp:{} \\nTN : {} \\nFP : {}\\nFN : {}\\nprecision {}\\nrecall {}\\nspecificity : {}\\naccuracy : {}\".format(tp,tn,fp,fn,precision,recall,specificity,a))"
      ],
      "metadata": {
        "colab": {
          "base_uri": "https://localhost:8080/"
        },
        "id": "6ua9iWi4g9iL",
        "outputId": "a08977b3-de7c-4b15-86ef-1f674502b1c0"
      },
      "execution_count": null,
      "outputs": [
        {
          "output_type": "stream",
          "name": "stdout",
          "text": [
            "tp:31 \n",
            "TN : 59 \n",
            "FP : 21\n",
            "FN : 12\n",
            "precision 0.5961538461538461\n",
            "recall 0.7209302325581395\n",
            "specificity : 0.7375\n",
            "accuracy : 0.7317073170731707\n"
          ]
        }
      ]
    },
    {
      "cell_type": "code",
      "execution_count": null,
      "metadata": {
        "id": "eZKs797cevIt"
      },
      "outputs": [],
      "source": [
        "tested_x = classifier.predict(x_test)"
      ]
    },
    {
      "cell_type": "code",
      "execution_count": null,
      "metadata": {
        "colab": {
          "base_uri": "https://localhost:8080/",
          "height": 279
        },
        "id": "1wOibz2ES5lT",
        "outputId": "bd745603-5445-45c1-c8ab-8411476a421d"
      },
      "outputs": [
        {
          "output_type": "display_data",
          "data": {
            "text/plain": [
              "<Figure size 432x288 with 1 Axes>"
            ],
            "image/png": "[encoded data removed]"
          },
          "metadata": {
            "needs_background": "light"
          }
        }
      ],
      "source": [
        "from sklearn import metrics\n",
        "log_regression = LogisticRegression()\n",
        "\n",
        "log_regression.fit(x_train,y_train)\n",
        "#define metrics\n",
        "y_pred_proba = log_regression.predict_proba(x_test)[::,1]\n",
        "fpr, tpr, _ = metrics.roc_curve(y_test,  y_pred_proba, pos_label=0)\n",
        "\n",
        "#create ROC curve\n",
        "plt.plot(fpr,tpr )\n",
        "plt.ylabel('True Positive Rate')\n",
        "plt.xlabel('False Positive Rate')\n",
        "plt.show()"
      ]
    },
    {
      "cell_type": "markdown",
      "source": [
        "**MLP**"
      ],
      "metadata": {
        "id": "t95Oc51dhjBG"
      }
    },
    {
      "cell_type": "code",
      "source": [
        "from sklearn.neural_network import MLPClassifier\n",
        "from sklearn.metrics import accuracy_score\n",
        "from sklearn.metrics import plot_confusion_matrix\n",
        "from sklearn.metrics import classification_report\n",
        "from sklearn.model_selection import GridSearchCV"
      ],
      "metadata": {
        "id": "UZhl2OzphkmF"
      },
      "execution_count": null,
      "outputs": []
    },
    {
      "cell_type": "code",
      "source": [
        "#fitting\n",
        "mlp_clf = MLPClassifier(hidden_layer_sizes=(150,100,50),\n",
        "                        max_iter = 300,activation = 'logistic',\n",
        "                        solver = 'adam')\n"
      ],
      "metadata": {
        "id": "gxe1cumhhuI2"
      },
      "execution_count": null,
      "outputs": []
    },
    {
      "cell_type": "code",
      "source": [
        "#fitting\n",
        "mlp_clf2 = MLPClassifier(hidden_layer_sizes=(150,100,50),\n",
        "                        max_iter = 300,activation = 'relu',\n",
        "                        solver = 'adam')\n"
      ],
      "metadata": {
        "id": "YhtdPS4ci-oo"
      },
      "execution_count": null,
      "outputs": []
    },
    {
      "cell_type": "code",
      "source": [
        "#fitting\n",
        "mlp_clf3 = MLPClassifier(hidden_layer_sizes=(150,100,50),\n",
        "                        max_iter = 300,activation = 'tanh',\n",
        "                        solver = 'adam')\n"
      ],
      "metadata": {
        "id": "QPH26C7ri_yn"
      },
      "execution_count": null,
      "outputs": []
    },
    {
      "cell_type": "code",
      "source": [
        "mlp_clf.fit(x_train, y_train)\n",
        "#accuracy\n",
        "yy_pred = mlp_clf.predict(x_test)\n",
        "from sklearn.metrics import confusion_matrix\n",
        "cm2=confusion_matrix(y_test,yy_pred)"
      ],
      "metadata": {
        "id": "6BfGFf0ZhvRG"
      },
      "execution_count": null,
      "outputs": []
    },
    {
      "cell_type": "code",
      "source": [
        "mlp_clf2.fit(x_train, y_train)\n",
        "#accuracy\n",
        "yy_pred = mlp_clf2.predict(x_test)\n",
        "from sklearn.metrics import confusion_matrix\n",
        "cm3=confusion_matrix(y_test,yy_pred)"
      ],
      "metadata": {
        "id": "ZmEZ30wdjNjA"
      },
      "execution_count": null,
      "outputs": []
    },
    {
      "cell_type": "code",
      "source": [
        "mlp_clf3.fit(x_train, y_train)\n",
        "#accuracy\n",
        "yy_pred = mlp_clf3.predict(x_test)\n",
        "from sklearn.metrics import confusion_matrix\n",
        "cm4=confusion_matrix(y_test,yy_pred)"
      ],
      "metadata": {
        "id": "3enJibXyjP_Q"
      },
      "execution_count": null,
      "outputs": []
    },
    {
      "cell_type": "code",
      "source": [
        "tp=cm2[0][0]\n",
        "fp=cm2[0][1]\n",
        "fn=cm2[1][0]\n",
        "tn=cm2[1][1]\n",
        "precision=tp/(tp+fp)\n",
        "recall=tp/(tp+fn)\n",
        "accuracy=(tp+tn)/(tp+tn+fp+fn)\n",
        "specificity = tn / (tn + fp)"
      ],
      "metadata": {
        "id": "nQn1VZzIiKL0"
      },
      "execution_count": null,
      "outputs": []
    },
    {
      "cell_type": "code",
      "source": [],
      "metadata": {
        "id": "PmXL6tedjxFy"
      },
      "execution_count": null,
      "outputs": []
    },
    {
      "cell_type": "code",
      "source": [
        "print(\"sigmoid activation function : \\nTP :{} \\nTN : {} \\nFP : {}\\nFN : {}\\nprecision : {}\\nrecall : {}\\nspecificity : {}\\naccuracy : {}\".format(tp,tn,fp,fn,precision,recall,specificity,accuracy*100))"
      ],
      "metadata": {
        "colab": {
          "base_uri": "https://localhost:8080/"
        },
        "id": "tVwBK4qyiQ6c",
        "outputId": "c5b22139-2ac6-41e7-e3f5-6c69a1fb9e4f"
      },
      "execution_count": null,
      "outputs": [
        {
          "output_type": "stream",
          "name": "stdout",
          "text": [
            "sigmoid activation function : \n",
            "TP :37 \n",
            "TN : 59 \n",
            "FP : 15\n",
            "FN : 12\n",
            "precision : 0.7115384615384616\n",
            "recall : 0.7551020408163265\n",
            "specificity : 0.7972972972972973\n",
            "accuracy : 78.04878048780488\n"
          ]
        }
      ]
    },
    {
      "cell_type": "code",
      "source": [
        "tp=cm3[0][0]\n",
        "fp=cm3[0][1]\n",
        "fn=cm3[1][0]\n",
        "tn=cm3[1][1]\n",
        "precision=tp/(tp+fp)\n",
        "recall=tp/(tp+fn)\n",
        "accuracy2=(tp+tn)/(tp+tn+fp+fn)\n",
        "specificity = tn / (tn + fp)"
      ],
      "metadata": {
        "id": "9zU9laPmjU8Q"
      },
      "execution_count": null,
      "outputs": []
    },
    {
      "cell_type": "code",
      "source": [
        "print(\"RELU ACTIVATION FUNCTION \\nTP :{} \\nTN : {} \\nFP : {}\\nFN : {}\\nprecision : {}\\nrecall : {}\\nspecificity : {}\\naccuracy : {}\".format(tp,tn,fp,fn,precision,recall,specificity,accuracy2*100))"
      ],
      "metadata": {
        "colab": {
          "base_uri": "https://localhost:8080/"
        },
        "id": "qKNOhP8vjlaw",
        "outputId": "cccaed67-759c-4e15-d8b5-4a497c561f62"
      },
      "execution_count": null,
      "outputs": [
        {
          "output_type": "stream",
          "name": "stdout",
          "text": [
            "RELU ACTIVATION FUNCTION \n",
            "TP :30 \n",
            "TN : 54 \n",
            "FP : 22\n",
            "FN : 17\n",
            "precision : 0.5769230769230769\n",
            "recall : 0.6382978723404256\n",
            "specificity : 0.7105263157894737\n",
            "accuracy : 68.29268292682927\n"
          ]
        }
      ]
    },
    {
      "cell_type": "code",
      "source": [
        "tp=cm4[0][0]\n",
        "fp=cm4[0][1]\n",
        "fn=cm4[1][0]\n",
        "tn=cm4[1][1]\n",
        "precision=tp/(tp+fp)\n",
        "recall=tp/(tp+fn)\n",
        "accuracy3=(tp+tn)/(tp+tn+fp+fn)\n",
        "specificity = tn / (tn + fp)"
      ],
      "metadata": {
        "id": "PQCZJG4XjWqg"
      },
      "execution_count": null,
      "outputs": []
    },
    {
      "cell_type": "code",
      "source": [
        "print(\"TAN ACTION FUNCTION \\nTP :{} \\nTN : {} \\nFP : {}\\nFN : {}\\nprecision : {}\\nrecall : {}\\nspecificity : {}\\naccuracy : {}\".format(tp,tn,fp,fn,precision,recall,specificity,accuracy3*100))"
      ],
      "metadata": {
        "colab": {
          "base_uri": "https://localhost:8080/"
        },
        "id": "LzeSmZ8Ujm_x",
        "outputId": "1b41644a-b64f-483c-b917-169e4ebb29bc"
      },
      "execution_count": null,
      "outputs": [
        {
          "output_type": "stream",
          "name": "stdout",
          "text": [
            "TAN ACTION FUNCTION \n",
            "TP :31 \n",
            "TN : 55 \n",
            "FP : 21\n",
            "FN : 16\n",
            "precision : 0.5961538461538461\n",
            "recall : 0.6595744680851063\n",
            "specificity : 0.7236842105263158\n",
            "accuracy : 69.91869918699187\n"
          ]
        }
      ]
    },
    {
      "cell_type": "code",
      "source": [
        "acc.append(accuracy)\n",
        "acc.append(accuracy2)\n",
        "acc.append(accuracy3)"
      ],
      "metadata": {
        "id": "IniZ--W5kK5-"
      },
      "execution_count": null,
      "outputs": []
    },
    {
      "cell_type": "code",
      "source": [
        "acc"
      ],
      "metadata": {
        "colab": {
          "base_uri": "https://localhost:8080/"
        },
        "id": "g1RkAFLckUPe",
        "outputId": "01e11ea5-ccc3-4de0-c6a9-a0feae587b27"
      },
      "execution_count": null,
      "outputs": [
        {
          "output_type": "execute_result",
          "data": {
            "text/plain": [
              "[0.7317073170731707,\n",
              " 0.7804878048780488,\n",
              " 0.6829268292682927,\n",
              " 0.6991869918699187]"
            ]
          },
          "metadata": {},
          "execution_count": 422
        }
      ]
    },
    {
      "cell_type": "code",
      "source": [
        "import matplotlib.pyplot as plt"
      ],
      "metadata": {
        "id": "LJgaU8kekUtu"
      },
      "execution_count": null,
      "outputs": []
    },
    {
      "cell_type": "code",
      "source": [
        "functions=['logistic regression','sigmoid','relu','tanh']"
      ],
      "metadata": {
        "id": "ZADfg7oqkolP"
      },
      "execution_count": null,
      "outputs": []
    },
    {
      "cell_type": "code",
      "source": [
        "plt.plot(functions, acc)"
      ],
      "metadata": {
        "colab": {
          "base_uri": "https://localhost:8080/",
          "height": 283
        },
        "id": "kQBkiRnGlreR",
        "outputId": "a9ec8f9e-b75a-4829-f974-104963c1eaf2"
      },
      "execution_count": null,
      "outputs": [
        {
          "output_type": "execute_result",
          "data": {
            "text/plain": [
              "[<matplotlib.lines.Line2D at 0x7fab19dbedd0>]"
            ]
          },
          "metadata": {},
          "execution_count": 425
        },
        {
          "output_type": "display_data",
          "data": {
            "text/plain": [
              "<Figure size 432x288 with 1 Axes>"
            ],
            "image/png": "[encoded data removed]"
          },
          "metadata": {
            "needs_background": "light"
          }
        }
      ]
    },
    {
      "cell_type": "code",
      "source": [
        "plt.bar(functions, acc)\n",
        "plt.title('accuracy vs functions')\n",
        "plt.xlabel('functions')\n",
        "plt.ylabel('acuracy')\n",
        "plt.show()"
      ],
      "metadata": {
        "colab": {
          "base_uri": "https://localhost:8080/",
          "height": 295
        },
        "id": "oI-XLbckk0V3",
        "outputId": "febf4ca2-ec89-4ac8-d35c-4d074571c181"
      },
      "execution_count": null,
      "outputs": [
        {
          "output_type": "display_data",
          "data": {
            "text/plain": [
              "<Figure size 432x288 with 1 Axes>"
            ],
            "image/png": "[encoded data removed]"
          },
          "metadata": {
            "needs_background": "light"
          }
        }
      ]
    },
    {
      "cell_type": "markdown",
      "source": [
        "MLP inference "
      ],
      "metadata": {
        "id": "HgS0YZI3mKnw"
      }
    },
    {
      "cell_type": "markdown",
      "source": [
        "sigmoid has the heighest acuracy than other activation functions \n",
        "relu activation function  has the least accuracy \n",
        "then LR and tanh has the same accuracy as compared but the accuracy is still less is around 70% for all\n",
        "there are no highly correlated variables nor too negatively correlated attributes "
      ],
      "metadata": {
        "id": "SzfuoSKgmQwo"
      }
    },
    {
      "cell_type": "code",
      "source": [],
      "metadata": {
        "id": "zu54_dIMqEK4"
      },
      "execution_count": null,
      "outputs": []
    }
  ],
  "metadata": {
    "colab": {
      "collapsed_sections": [],
      "provenance": []
    },
    "kernelspec": {
      "display_name": "Python 3",
      "name": "python3"
    },
    "language_info": {
      "name": "python"
    }
  },
  "nbformat": 4,
  "nbformat_minor": 0
}